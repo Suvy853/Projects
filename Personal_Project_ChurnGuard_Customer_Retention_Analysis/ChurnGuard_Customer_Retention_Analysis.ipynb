{
 "cells": [
  {
   "cell_type": "code",
   "execution_count": 1,
   "id": "a2d55067-7579-475f-a2eb-224f791679d8",
   "metadata": {},
   "outputs": [
    {
     "name": "stdout",
     "output_type": "stream",
     "text": [
      "Dataset URL: https://www.kaggle.com/datasets/blastchar/telco-customer-churn\n",
      "License(s): copyright-authors\n",
      "Downloading telco-customer-churn.zip to C:\\Users\\suvee\\Documents\\GitHub Projects\\Personal_Project_ChurnGuard_Customer_Retention_Analysis\n",
      "\n",
      "Dataset downloaded and extracted successfully!\n"
     ]
    },
    {
     "name": "stderr",
     "output_type": "stream",
     "text": [
      "\n",
      "  0%|          | 0.00/172k [00:00<?, ?B/s]\n",
      "100%|##########| 172k/172k [00:01<00:00, 161kB/s]\n",
      "100%|##########| 172k/172k [00:01<00:00, 161kB/s]\n"
     ]
    }
   ],
   "source": [
    "import os\n",
    "\n",
    "# Install Kaggle API\n",
    "!pip install kaggle --upgrade --quiet  \n",
    "\n",
    "# Set up Kaggle API Key\n",
    "os.environ['KAGGLE_CONFIG_DIR'] = os.getcwd()\n",
    "\n",
    "# Download dataset\n",
    "!kaggle datasets download -d blastchar/telco-customer-churn\n",
    "\n",
    "# Unzip dataset\n",
    "import zipfile\n",
    "with zipfile.ZipFile(\"telco-customer-churn.zip\", 'r') as zip_ref:\n",
    "    zip_ref.extractall(\"customer_churn_data\")\n",
    "\n",
    "print(\"Dataset downloaded and extracted successfully!\")"
   ]
  },
  {
   "cell_type": "code",
   "execution_count": 5,
   "id": "d4d07ede-2537-4287-9a9c-e297763dc945",
   "metadata": {},
   "outputs": [
    {
     "name": "stdout",
     "output_type": "stream",
     "text": [
      "<class 'pandas.core.frame.DataFrame'>\n",
      "RangeIndex: 7043 entries, 0 to 7042\n",
      "Data columns (total 21 columns):\n",
      " #   Column            Non-Null Count  Dtype  \n",
      "---  ------            --------------  -----  \n",
      " 0   customerid        7043 non-null   object \n",
      " 1   gender            7043 non-null   object \n",
      " 2   seniorcitizen     7043 non-null   int64  \n",
      " 3   partner           7043 non-null   object \n",
      " 4   dependents        7043 non-null   object \n",
      " 5   tenure            7043 non-null   int64  \n",
      " 6   phoneservice      7043 non-null   object \n",
      " 7   multiplelines     7043 non-null   object \n",
      " 8   internetservice   7043 non-null   object \n",
      " 9   onlinesecurity    7043 non-null   object \n",
      " 10  onlinebackup      7043 non-null   object \n",
      " 11  deviceprotection  7043 non-null   object \n",
      " 12  techsupport       7043 non-null   object \n",
      " 13  streamingtv       7043 non-null   object \n",
      " 14  streamingmovies   7043 non-null   object \n",
      " 15  contract          7043 non-null   object \n",
      " 16  paperlessbilling  7043 non-null   object \n",
      " 17  paymentmethod     7043 non-null   object \n",
      " 18  monthlycharges    7043 non-null   float64\n",
      " 19  totalcharges      7043 non-null   float64\n",
      " 20  churn             7043 non-null   object \n",
      "dtypes: float64(2), int64(2), object(17)\n",
      "memory usage: 1.1+ MB\n",
      "None\n"
     ]
    }
   ],
   "source": [
    "import pandas as pd\n",
    "\n",
    "# Load dataset\n",
    "df = pd.read_csv(\"customer_churn_data/WA_Fn-UseC_-Telco-Customer-Churn.csv\")\n",
    "\n",
    "# Convert column names to lowercase\n",
    "df.columns = df.columns.str.lower()\n",
    "\n",
    "# Convert 'totalcharges' to numeric (handling missing values)\n",
    "df['totalcharges'] = pd.to_numeric(df['totalcharges'], errors='coerce')\n",
    "\n",
    "# Identify numeric columns only\n",
    "numeric_cols = df.select_dtypes(include=['number']).columns\n",
    "\n",
    "# Fill missing values only in numeric columns\n",
    "df[numeric_cols] = df[numeric_cols].fillna(df[numeric_cols].median())\n",
    "\n",
    "# Drop duplicate rows if any\n",
    "df.drop_duplicates(inplace=True)\n",
    "\n",
    "# Display basic info\n",
    "print(df.info())"
   ]
  },
  {
   "cell_type": "code",
   "execution_count": 7,
   "id": "2983c84c-651d-4f40-84d4-51761b97c1af",
   "metadata": {},
   "outputs": [
    {
     "name": "stdout",
     "output_type": "stream",
     "text": [
      "Data successfully loaded into SQL Database!\n"
     ]
    }
   ],
   "source": [
    "import sqlite3\n",
    "\n",
    "# Create SQLite database\n",
    "conn = sqlite3.connect(\"customer_churn.db\")\n",
    "cursor = conn.cursor()\n",
    "\n",
    "# Store data in SQL table\n",
    "df.to_sql(\"customer_churn\", conn, if_exists=\"replace\", index=False)\n",
    "\n",
    "print(\"Data successfully loaded into SQL Database!\")"
   ]
  },
  {
   "cell_type": "code",
   "execution_count": 9,
   "id": "27e49baf-5224-4011-b5f5-9df8e8630802",
   "metadata": {},
   "outputs": [
    {
     "name": "stdout",
     "output_type": "stream",
     "text": [
      "              precision    recall  f1-score   support\n",
      "\n",
      "           0       0.82      0.89      0.85      1036\n",
      "           1       0.59      0.46      0.52       373\n",
      "\n",
      "    accuracy                           0.77      1409\n",
      "   macro avg       0.70      0.67      0.68      1409\n",
      "weighted avg       0.76      0.77      0.76      1409\n",
      "\n"
     ]
    }
   ],
   "source": [
    "from sklearn.model_selection import train_test_split\n",
    "from sklearn.preprocessing import LabelEncoder, StandardScaler\n",
    "from sklearn.ensemble import RandomForestClassifier\n",
    "from sklearn.metrics import classification_report\n",
    "\n",
    "# Encode categorical variables\n",
    "df['churn'] = df['churn'].apply(lambda x: 1 if x == 'Yes' else 0)\n",
    "\n",
    "# Select relevant features\n",
    "features = ['tenure', 'monthlycharges', 'totalcharges']\n",
    "df = df[features + ['churn']].dropna()\n",
    "\n",
    "# Split data\n",
    "X = df[features]\n",
    "y = df['churn']\n",
    "X_train, X_test, y_train, y_test = train_test_split(X, y, test_size=0.2, random_state=42)\n",
    "\n",
    "# Train model\n",
    "model = RandomForestClassifier()\n",
    "model.fit(X_train, y_train)\n",
    "\n",
    "# Predict and evaluate\n",
    "y_pred = model.predict(X_test)\n",
    "print(classification_report(y_test, y_pred))"
   ]
  }
 ],
 "metadata": {
  "kernelspec": {
   "display_name": "Python 3 (ipykernel)",
   "language": "python",
   "name": "python3"
  },
  "language_info": {
   "codemirror_mode": {
    "name": "ipython",
    "version": 3
   },
   "file_extension": ".py",
   "mimetype": "text/x-python",
   "name": "python",
   "nbconvert_exporter": "python",
   "pygments_lexer": "ipython3",
   "version": "3.12.4"
  }
 },
 "nbformat": 4,
 "nbformat_minor": 5
}
